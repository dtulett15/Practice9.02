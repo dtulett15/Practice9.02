{
 "cells": [
  {
   "cell_type": "markdown",
   "metadata": {},
   "source": [
    "== #in python double equals tests equality because a single equals is the assignment symbol \\n\n",
    "\n",
    "!= #this is \"not equals\"\n"
   ]
  },
  {
   "cell_type": "code",
   "execution_count": 9,
   "metadata": {},
   "outputs": [
    {
     "name": "stdout",
     "output_type": "stream",
     "text": [
      "What is the value of x: 13\n",
      "what is the value of y: 5\n",
      "nice\n"
     ]
    }
   ],
   "source": [
    "x = float(input(\"What is the value of x: \"))\n",
    "y = float(input(\"what is the value of y: \"))\n",
    "if x >= 12 and y <= 20:\n",
    "    print(\"nice\")\n",
    "#This is a single sided if"
   ]
  },
  {
   "cell_type": "code",
   "execution_count": 10,
   "metadata": {},
   "outputs": [
    {
     "name": "stdout",
     "output_type": "stream",
     "text": [
      "What is the value of x: 4\n",
      "what is the value of y: 3\n",
      "false\n"
     ]
    }
   ],
   "source": [
    "x = float(input(\"What is the value of x: \"))\n",
    "y = float(input(\"what is the value of y: \"))\n",
    "if x >= 12 and y <= 20:\n",
    "    print(\"true\")\n",
    "else:\n",
    "    print(\"false\")\n",
    "#This is a double-sided if"
   ]
  },
  {
   "cell_type": "code",
   "execution_count": 11,
   "metadata": {},
   "outputs": [
    {
     "name": "stdout",
     "output_type": "stream",
     "text": [
      "What is the value of x: 2\n",
      "what is the value of y: 2\n",
      "nice\n"
     ]
    }
   ],
   "source": [
    "x = float(input(\"What is the value of x: \"))\n",
    "y = float(input(\"what is the value of y: \"))\n",
    "if x >= 12 or y <= 20: #or statment means that if either are true, the statement is true\n",
    "    print(\"nice\")"
   ]
  },
  {
   "cell_type": "code",
   "execution_count": 17,
   "metadata": {},
   "outputs": [
    {
     "name": "stdout",
     "output_type": "stream",
     "text": [
      "What is your grade? 40\n",
      "You failed\n"
     ]
    }
   ],
   "source": [
    "grade = float(input(\"What is your grade? \"))\n",
    "if grade >= 90:\n",
    "    print(\"You got an A\")\n",
    "elif grade >= 80:\n",
    "    print(\"You got a B\")\n",
    "elif grade >= 70:\n",
    "    print(\"You got a C\")\n",
    "elif grade >= 60:\n",
    "    print(\"You got a D\")\n",
    "else:\n",
    "    print(\"You failed\")\n",
    "#This is a nested decision structure"
   ]
  },
  {
   "cell_type": "code",
   "execution_count": null,
   "metadata": {},
   "outputs": [],
   "source": []
  }
 ],
 "metadata": {
  "kernelspec": {
   "display_name": "Python 3",
   "language": "python",
   "name": "python3"
  },
  "language_info": {
   "codemirror_mode": {
    "name": "ipython",
    "version": 3
   },
   "file_extension": ".py",
   "mimetype": "text/x-python",
   "name": "python",
   "nbconvert_exporter": "python",
   "pygments_lexer": "ipython3",
   "version": "3.8.3"
  }
 },
 "nbformat": 4,
 "nbformat_minor": 4
}
